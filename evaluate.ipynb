{
 "cells": [
  {
   "cell_type": "code",
   "execution_count": 19,
   "metadata": {},
   "outputs": [],
   "source": [
    "from analysis.metrics import MoleculeProperties\n",
    "from pathlib import Path\n",
    "import os\n",
    "import numpy as np\n",
    "import py3Dmol\n",
    "from rdkit import Chem"
   ]
  },
  {
   "cell_type": "code",
   "execution_count": 20,
   "metadata": {},
   "outputs": [],
   "source": [
    "basedir = Path(\"/home/domainHomes/ssakharov/master_thesis/crossdocked/processed_crossdock_noH_ca_only_temp/test\")\n",
    "processed_dir = basedir / \"processed\"\n",
    "raw_dir = basedir / \"raw\"\n",
    "random_file_name = np.random.choice(os.listdir(processed_dir))\n",
    "processed_file  =  processed_dir / random_file_name\n",
    "raw_file = raw_dir / random_file_name "
   ]
  },
  {
   "cell_type": "code",
   "execution_count": 21,
   "metadata": {},
   "outputs": [],
   "source": [
    "# view = py3Dmol.view(js='https://3dmol.org/build/3Dmol.js')\n",
    "# view.addModelsAsFrames(open(processed_file, 'r').read())\n",
    "# view.addStyle({'model': -1}, {'stick': {}})\n",
    "# view.zoomTo()"
   ]
  },
  {
   "cell_type": "code",
   "execution_count": 22,
   "metadata": {},
   "outputs": [],
   "source": [
    "# view = py3Dmol.view(js='https://3dmol.org/build/3Dmol.js')\n",
    "# view.addModelsAsFrames(open(raw_file, 'r').read())\n",
    "# view.addStyle({'model': -1}, {'stick': {}})\n",
    "# view.zoomTo()"
   ]
  },
  {
   "cell_type": "code",
   "execution_count": 23,
   "metadata": {},
   "outputs": [
    {
     "name": "stderr",
     "output_type": "stream",
     "text": [
      "[11:32:26] Can't kekulize mol.  Unkekulized atoms: 0 1 5 7 10 11 12 13 20\n",
      "[11:32:27] ERROR: Could not sanitize molecule ending on line 54\n",
      "[11:32:27] ERROR: Can't kekulize mol.  Unkekulized atoms: 0 1 5 7 10 11 12 13 20\n"
     ]
    }
   ],
   "source": [
    "processed_mol = [[Chem.SDMolSupplier(str(processed_dir / file))[0]] for file in os.listdir(processed_dir)]"
   ]
  },
  {
   "cell_type": "code",
   "execution_count": 24,
   "metadata": {},
   "outputs": [],
   "source": [
    "processed_mol = [mol for mol in processed_mol if mol[0] is not None]"
   ]
  },
  {
   "cell_type": "code",
   "execution_count": 25,
   "metadata": {},
   "outputs": [
    {
     "name": "stderr",
     "output_type": "stream",
     "text": [
      "100%|██████████| 99/99 [00:00<00:00, 773.75it/s]"
     ]
    },
    {
     "name": "stdout",
     "output_type": "stream",
     "text": [
      "99 molecules from 99 pockets evaluated.\n",
      "QED: 0.437 \\pm 0.20\n",
      "SA: 0.631 \\pm 0.12\n",
      "LogP: 0.979 \\pm 1.95\n",
      "Lipinski: 4.626 \\pm 0.84\n",
      "Diversity: 0.000 \\pm 0.00\n"
     ]
    },
    {
     "name": "stderr",
     "output_type": "stream",
     "text": [
      "\n"
     ]
    }
   ],
   "source": [
    "mol_metrics = MoleculeProperties()\n",
    "all_qed, all_sa, all_logp, all_lipinski, per_pocket_diversity = \\\n",
    "    mol_metrics.evaluate(processed_mol)"
   ]
  },
  {
   "cell_type": "code",
   "execution_count": 26,
   "metadata": {},
   "outputs": [
    {
     "name": "stderr",
     "output_type": "stream",
     "text": [
      "  0%|          | 0/100 [00:00<?, ?it/s]"
     ]
    },
    {
     "name": "stderr",
     "output_type": "stream",
     "text": [
      "100%|██████████| 100/100 [00:00<00:00, 777.67it/s]"
     ]
    },
    {
     "name": "stdout",
     "output_type": "stream",
     "text": [
      "100 molecules from 100 pockets evaluated.\n",
      "QED: 0.417 \\pm 0.20\n",
      "SA: 0.626 \\pm 0.12\n",
      "LogP: 1.132 \\pm 1.94\n",
      "Lipinski: 4.510 \\pm 0.98\n",
      "Diversity: 0.000 \\pm 0.00\n"
     ]
    },
    {
     "name": "stderr",
     "output_type": "stream",
     "text": [
      "\n"
     ]
    }
   ],
   "source": [
    "raw_mol = [[Chem.SDMolSupplier(str(raw_dir / file))[0]] for file in os.listdir(raw_dir)]\n",
    "mol_metrics = MoleculeProperties()\n",
    "all_qed, all_sa, all_logp, all_lipinski, per_pocket_diversity = \\\n",
    "    mol_metrics.evaluate(raw_mol)"
   ]
  }
 ],
 "metadata": {
  "kernelspec": {
   "display_name": "thesis-venv",
   "language": "python",
   "name": "python3"
  },
  "language_info": {
   "codemirror_mode": {
    "name": "ipython",
    "version": 3
   },
   "file_extension": ".py",
   "mimetype": "text/x-python",
   "name": "python",
   "nbconvert_exporter": "python",
   "pygments_lexer": "ipython3",
   "version": "3.11.6"
  }
 },
 "nbformat": 4,
 "nbformat_minor": 2
}
