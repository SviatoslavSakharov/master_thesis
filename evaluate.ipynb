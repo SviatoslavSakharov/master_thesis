{
 "cells": [
  {
   "cell_type": "code",
   "execution_count": 8,
   "metadata": {},
   "outputs": [],
   "source": [
    "from analysis.metrics import MoleculeProperties\n",
    "from pathlib import Path\n",
    "import os\n",
    "import numpy as np\n",
    "import py3Dmol\n",
    "from rdkit import Chem"
   ]
  },
  {
   "cell_type": "code",
   "execution_count": 9,
   "metadata": {},
   "outputs": [],
   "source": [
    "basedir = Path(\"/home/domainHomes/ssakharov/master_thesis/crossdocked/processed_crossdock_noH_ca_only_temp/predictions_test_r1_t500_ddim\")\n",
    "processed_dir = basedir / \"processed\"\n",
    "raw_dir = basedir / \"raw\"\n",
    "random_file_name = np.random.choice(os.listdir(processed_dir))\n",
    "processed_file  =  processed_dir / random_file_name\n",
    "raw_file = raw_dir / random_file_name "
   ]
  },
  {
   "cell_type": "code",
   "execution_count": 10,
   "metadata": {},
   "outputs": [],
   "source": [
    "# view = py3Dmol.view(js='https://3dmol.org/build/3Dmol.js')\n",
    "# view.addModelsAsFrames(open(processed_file, 'r').read())\n",
    "# view.addStyle({'model': -1}, {'stick': {}})\n",
    "# view.zoomTo()"
   ]
  },
  {
   "cell_type": "code",
   "execution_count": 11,
   "metadata": {},
   "outputs": [],
   "source": [
    "# view = py3Dmol.view(js='https://3dmol.org/build/3Dmol.js')\n",
    "# view.addModelsAsFrames(open(raw_file, 'r').read())\n",
    "# view.addStyle({'model': -1}, {'stick': {}})\n",
    "# view.zoomTo()"
   ]
  },
  {
   "cell_type": "code",
   "execution_count": 12,
   "metadata": {},
   "outputs": [],
   "source": [
    "processed_mol = []\n",
    "for file in os.listdir(processed_dir):\n",
    "    mols = Chem.SDMolSupplier(str(processed_dir / file))\n",
    "    processed_mol.append([mol for mol in mols if mol is not None])"
   ]
  },
  {
   "cell_type": "code",
   "execution_count": 13,
   "metadata": {},
   "outputs": [
    {
     "name": "stderr",
     "output_type": "stream",
     "text": [
      "100%|██████████| 1/1 [00:00<00:00, 11.34it/s]"
     ]
    },
    {
     "name": "stdout",
     "output_type": "stream",
     "text": [
      "10 molecules from 1 pockets evaluated.\n",
      "QED: 0.496 \\pm 0.18\n",
      "SA: 0.631 \\pm 0.22\n",
      "LogP: 2.395 \\pm 2.12\n",
      "Lipinski: 5.000 \\pm 0.00\n",
      "Diversity: 0.879 \\pm 0.00\n"
     ]
    },
    {
     "name": "stderr",
     "output_type": "stream",
     "text": [
      "\n"
     ]
    }
   ],
   "source": [
    "mol_metrics = MoleculeProperties()\n",
    "all_qed, all_sa, all_logp, all_lipinski, per_pocket_diversity = \\\n",
    "    mol_metrics.evaluate(processed_mol)"
   ]
  },
  {
   "cell_type": "code",
   "execution_count": 14,
   "metadata": {},
   "outputs": [],
   "source": [
    "# raw_mol = [[Chem.SDMolSupplier(str(raw_dir / file))[0]] for file in os.listdir(raw_dir)]\n",
    "# mol_metrics = MoleculeProperties()\n",
    "# all_qed, all_sa, all_logp, all_lipinski, per_pocket_diversity = \\\n",
    "#     mol_metrics.evaluate(raw_mol)"
   ]
  }
 ],
 "metadata": {
  "kernelspec": {
   "display_name": "thesis-venv",
   "language": "python",
   "name": "python3"
  },
  "language_info": {
   "codemirror_mode": {
    "name": "ipython",
    "version": 3
   },
   "file_extension": ".py",
   "mimetype": "text/x-python",
   "name": "python",
   "nbconvert_exporter": "python",
   "pygments_lexer": "ipython3",
   "version": "3.11.6"
  }
 },
 "nbformat": 4,
 "nbformat_minor": 2
}
