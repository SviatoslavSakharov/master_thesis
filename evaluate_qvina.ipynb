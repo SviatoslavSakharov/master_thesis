{
 "cells": [
  {
   "cell_type": "code",
   "execution_count": 2,
   "metadata": {},
   "outputs": [],
   "source": [
    "import pandas as pd\n",
    "from pathlib import Path"
   ]
  },
  {
   "cell_type": "code",
   "execution_count": 3,
   "metadata": {},
   "outputs": [],
   "source": [
    "qvina_csv = Path(\"/home/domainHomes/ssakharov/master_thesis/crossdocked/processed_crossdock_noH_ca_only_temp/qvina_r10_t50/qvina2_scores.csv\")"
   ]
  },
  {
   "cell_type": "code",
   "execution_count": 7,
   "metadata": {},
   "outputs": [
    {
     "data": {
      "text/plain": [
       "(100, 3)"
      ]
     },
     "execution_count": 7,
     "metadata": {},
     "output_type": "execute_result"
    }
   ],
   "source": [
    "df = pd.read_csv(qvina_csv, index_col=0)\n",
    "df.shape"
   ]
  },
  {
   "cell_type": "code",
   "execution_count": 8,
   "metadata": {},
   "outputs": [
    {
     "data": {
      "text/html": [
       "<div>\n",
       "<style scoped>\n",
       "    .dataframe tbody tr th:only-of-type {\n",
       "        vertical-align: middle;\n",
       "    }\n",
       "\n",
       "    .dataframe tbody tr th {\n",
       "        vertical-align: top;\n",
       "    }\n",
       "\n",
       "    .dataframe thead th {\n",
       "        text-align: right;\n",
       "    }\n",
       "</style>\n",
       "<table border=\"1\" class=\"dataframe\">\n",
       "  <thead>\n",
       "    <tr style=\"text-align: right;\">\n",
       "      <th></th>\n",
       "      <th>receptor</th>\n",
       "      <th>ligand</th>\n",
       "      <th>scores</th>\n",
       "    </tr>\n",
       "  </thead>\n",
       "  <tbody>\n",
       "    <tr>\n",
       "      <th>0</th>\n",
       "      <td>/home/domainHomes/ssakharov/master_thesis/cros...</td>\n",
       "      <td>/home/domainHomes/ssakharov/master_thesis/cros...</td>\n",
       "      <td>[-5.4, -6.6, -6.2, -6.9, -6.3, -5.9, -6.7, -6....</td>\n",
       "    </tr>\n",
       "    <tr>\n",
       "      <th>1</th>\n",
       "      <td>/home/domainHomes/ssakharov/master_thesis/cros...</td>\n",
       "      <td>/home/domainHomes/ssakharov/master_thesis/cros...</td>\n",
       "      <td>[-8.6, -6.2, -7.1, -7.9, -7.7, -8.4, -9.1, -7....</td>\n",
       "    </tr>\n",
       "    <tr>\n",
       "      <th>2</th>\n",
       "      <td>/home/domainHomes/ssakharov/master_thesis/cros...</td>\n",
       "      <td>/home/domainHomes/ssakharov/master_thesis/cros...</td>\n",
       "      <td>[-6.9, -7.7, -8.7, -8.3, -8.0, -8.3, -6.9, -6....</td>\n",
       "    </tr>\n",
       "    <tr>\n",
       "      <th>3</th>\n",
       "      <td>/home/domainHomes/ssakharov/master_thesis/cros...</td>\n",
       "      <td>/home/domainHomes/ssakharov/master_thesis/cros...</td>\n",
       "      <td>[-4.6, -6.6, -4.7, -6.8, -7.9, -6.6, -4.8, -4....</td>\n",
       "    </tr>\n",
       "    <tr>\n",
       "      <th>4</th>\n",
       "      <td>/home/domainHomes/ssakharov/master_thesis/cros...</td>\n",
       "      <td>/home/domainHomes/ssakharov/master_thesis/cros...</td>\n",
       "      <td>[-7.0, -7.4, -8.8, -8.8, -5.8, -7.7, -4.4, -5....</td>\n",
       "    </tr>\n",
       "  </tbody>\n",
       "</table>\n",
       "</div>"
      ],
      "text/plain": [
       "                                            receptor  \\\n",
       "0  /home/domainHomes/ssakharov/master_thesis/cros...   \n",
       "1  /home/domainHomes/ssakharov/master_thesis/cros...   \n",
       "2  /home/domainHomes/ssakharov/master_thesis/cros...   \n",
       "3  /home/domainHomes/ssakharov/master_thesis/cros...   \n",
       "4  /home/domainHomes/ssakharov/master_thesis/cros...   \n",
       "\n",
       "                                              ligand  \\\n",
       "0  /home/domainHomes/ssakharov/master_thesis/cros...   \n",
       "1  /home/domainHomes/ssakharov/master_thesis/cros...   \n",
       "2  /home/domainHomes/ssakharov/master_thesis/cros...   \n",
       "3  /home/domainHomes/ssakharov/master_thesis/cros...   \n",
       "4  /home/domainHomes/ssakharov/master_thesis/cros...   \n",
       "\n",
       "                                              scores  \n",
       "0  [-5.4, -6.6, -6.2, -6.9, -6.3, -5.9, -6.7, -6....  \n",
       "1  [-8.6, -6.2, -7.1, -7.9, -7.7, -8.4, -9.1, -7....  \n",
       "2  [-6.9, -7.7, -8.7, -8.3, -8.0, -8.3, -6.9, -6....  \n",
       "3  [-4.6, -6.6, -4.7, -6.8, -7.9, -6.6, -4.8, -4....  \n",
       "4  [-7.0, -7.4, -8.8, -8.8, -5.8, -7.7, -4.4, -5....  "
      ]
     },
     "execution_count": 8,
     "metadata": {},
     "output_type": "execute_result"
    }
   ],
   "source": [
    "df.head()"
   ]
  },
  {
   "cell_type": "code",
   "execution_count": 10,
   "metadata": {},
   "outputs": [
    {
     "data": {
      "text/html": [
       "<div>\n",
       "<style scoped>\n",
       "    .dataframe tbody tr th:only-of-type {\n",
       "        vertical-align: middle;\n",
       "    }\n",
       "\n",
       "    .dataframe tbody tr th {\n",
       "        vertical-align: top;\n",
       "    }\n",
       "\n",
       "    .dataframe thead th {\n",
       "        text-align: right;\n",
       "    }\n",
       "</style>\n",
       "<table border=\"1\" class=\"dataframe\">\n",
       "  <thead>\n",
       "    <tr style=\"text-align: right;\">\n",
       "      <th></th>\n",
       "      <th>receptor</th>\n",
       "      <th>ligand</th>\n",
       "      <th>scores</th>\n",
       "      <th>best_score</th>\n",
       "    </tr>\n",
       "  </thead>\n",
       "  <tbody>\n",
       "    <tr>\n",
       "      <th>0</th>\n",
       "      <td>/home/domainHomes/ssakharov/master_thesis/cros...</td>\n",
       "      <td>/home/domainHomes/ssakharov/master_thesis/cros...</td>\n",
       "      <td>[-5.4, -6.6, -6.2, -6.9, -6.3, -5.9, -6.7, -6....</td>\n",
       "      <td>-7.8</td>\n",
       "    </tr>\n",
       "    <tr>\n",
       "      <th>1</th>\n",
       "      <td>/home/domainHomes/ssakharov/master_thesis/cros...</td>\n",
       "      <td>/home/domainHomes/ssakharov/master_thesis/cros...</td>\n",
       "      <td>[-8.6, -6.2, -7.1, -7.9, -7.7, -8.4, -9.1, -7....</td>\n",
       "      <td>-9.5</td>\n",
       "    </tr>\n",
       "    <tr>\n",
       "      <th>2</th>\n",
       "      <td>/home/domainHomes/ssakharov/master_thesis/cros...</td>\n",
       "      <td>/home/domainHomes/ssakharov/master_thesis/cros...</td>\n",
       "      <td>[-6.9, -7.7, -8.7, -8.3, -8.0, -8.3, -6.9, -6....</td>\n",
       "      <td>-10.5</td>\n",
       "    </tr>\n",
       "    <tr>\n",
       "      <th>3</th>\n",
       "      <td>/home/domainHomes/ssakharov/master_thesis/cros...</td>\n",
       "      <td>/home/domainHomes/ssakharov/master_thesis/cros...</td>\n",
       "      <td>[-4.6, -6.6, -4.7, -6.8, -7.9, -6.6, -4.8, -4....</td>\n",
       "      <td>-8.4</td>\n",
       "    </tr>\n",
       "    <tr>\n",
       "      <th>4</th>\n",
       "      <td>/home/domainHomes/ssakharov/master_thesis/cros...</td>\n",
       "      <td>/home/domainHomes/ssakharov/master_thesis/cros...</td>\n",
       "      <td>[-7.0, -7.4, -8.8, -8.8, -5.8, -7.7, -4.4, -5....</td>\n",
       "      <td>-11.0</td>\n",
       "    </tr>\n",
       "  </tbody>\n",
       "</table>\n",
       "</div>"
      ],
      "text/plain": [
       "                                            receptor  \\\n",
       "0  /home/domainHomes/ssakharov/master_thesis/cros...   \n",
       "1  /home/domainHomes/ssakharov/master_thesis/cros...   \n",
       "2  /home/domainHomes/ssakharov/master_thesis/cros...   \n",
       "3  /home/domainHomes/ssakharov/master_thesis/cros...   \n",
       "4  /home/domainHomes/ssakharov/master_thesis/cros...   \n",
       "\n",
       "                                              ligand  \\\n",
       "0  /home/domainHomes/ssakharov/master_thesis/cros...   \n",
       "1  /home/domainHomes/ssakharov/master_thesis/cros...   \n",
       "2  /home/domainHomes/ssakharov/master_thesis/cros...   \n",
       "3  /home/domainHomes/ssakharov/master_thesis/cros...   \n",
       "4  /home/domainHomes/ssakharov/master_thesis/cros...   \n",
       "\n",
       "                                              scores  best_score  \n",
       "0  [-5.4, -6.6, -6.2, -6.9, -6.3, -5.9, -6.7, -6....        -7.8  \n",
       "1  [-8.6, -6.2, -7.1, -7.9, -7.7, -8.4, -9.1, -7....        -9.5  \n",
       "2  [-6.9, -7.7, -8.7, -8.3, -8.0, -8.3, -6.9, -6....       -10.5  \n",
       "3  [-4.6, -6.6, -4.7, -6.8, -7.9, -6.6, -4.8, -4....        -8.4  \n",
       "4  [-7.0, -7.4, -8.8, -8.8, -5.8, -7.7, -4.4, -5....       -11.0  "
      ]
     },
     "execution_count": 10,
     "metadata": {},
     "output_type": "execute_result"
    }
   ],
   "source": [
    "df[\"best_score\"] = df[\"scores\"].map(lambda x: min([float(y) for y in x[1:-1].split(\",\")]))\n",
    "df.head()"
   ]
  },
  {
   "cell_type": "code",
   "execution_count": 11,
   "metadata": {},
   "outputs": [
    {
     "name": "stdout",
     "output_type": "stream",
     "text": [
      "avarage_qvina_score: -9.529 +- 1.8459507965908364\n"
     ]
    }
   ],
   "source": [
    "avarage_qvina_score = df[\"best_score\"].mean()\n",
    "std_qvina_score = df[\"best_score\"].std()\n",
    "print(f\"avarage_qvina_score: {avarage_qvina_score} +- {std_qvina_score}\")"
   ]
  }
 ],
 "metadata": {
  "kernelspec": {
   "display_name": "thesis-venv",
   "language": "python",
   "name": "python3"
  },
  "language_info": {
   "codemirror_mode": {
    "name": "ipython",
    "version": 3
   },
   "file_extension": ".py",
   "mimetype": "text/x-python",
   "name": "python",
   "nbconvert_exporter": "python",
   "pygments_lexer": "ipython3",
   "version": "3.11.6"
  }
 },
 "nbformat": 4,
 "nbformat_minor": 2
}
