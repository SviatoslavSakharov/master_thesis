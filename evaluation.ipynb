{
 "cells": [
  {
   "cell_type": "code",
   "execution_count": 25,
   "metadata": {},
   "outputs": [],
   "source": [
    "import os\n",
    "import torch\n",
    "import numpy as np\n",
    "from pathlib import Path\n",
    "from Bio.PDB import PDBParser\n",
    "from lightning_modules import LigandPocketDDPM\n",
    "from torch_scatter import scatter_add, scatter_mean\n",
    "import utils\n",
    "from constants import dataset_params, FLOAT_TYPE, INT_TYPE"
   ]
  },
  {
   "cell_type": "code",
   "execution_count": 26,
   "metadata": {},
   "outputs": [],
   "source": [
    "test_folder = Path(\"/home/domainHomes/ssakharov/master_thesis/crossdocked/processed_crossdock_noH_ca_only_temp/test\")\n",
    "txt_file = test_folder / \"4keu-A-rec-4ket-pg4-lig-tt-min-0-pocket10_4keu-A-rec-4ket-pg4-lig-tt-min-0.txt\"\n",
    "pdb_file = test_folder / \"4keu-A-rec-4ket-pg4-lig-tt-min-0-pocket10.pdb\"\n",
    "\n",
    "batch_size = 4\n"
   ]
  },
  {
   "cell_type": "code",
   "execution_count": 27,
   "metadata": {},
   "outputs": [
    {
     "name": "stdout",
     "output_type": "stream",
     "text": [
      "['A:24', 'A:27', 'A:223', 'A:225', 'A:226', 'A:228', 'A:229', 'A:256', 'A:257', 'A:258', 'A:261', 'A:263', 'A:264', 'A:265', 'A:266', 'A:271', 'A:274', 'A:275', 'A:278', 'A:199', 'A:202', 'A:22', 'A:170', 'A:222', 'A:255', 'A:72', 'A:97', 'A:67', 'A:99', 'A:139', 'A:141', 'A:171', 'A:227', 'A:267', 'A:270', 'A:268', 'A:272', 'A:273', 'A:276', 'A:269', 'A:277', 'A:279', 'C:104']\n"
     ]
    }
   ],
   "source": [
    "with open(txt_file, 'r') as f:\n",
    "    resi_list = f.read().split()\n",
    "print(resi_list) "
   ]
  },
  {
   "cell_type": "code",
   "execution_count": 28,
   "metadata": {},
   "outputs": [
    {
     "name": "stdout",
     "output_type": "stream",
     "text": [
      "Entropy of n_nodes: H[N] 7.055830001831055\n"
     ]
    }
   ],
   "source": [
    "model = LigandPocketDDPM.load_from_checkpoint(\n",
    "        \"/home/domainHomes/ssakharov/master_thesis/logdir/SE3-inpaint-CA-test/checkpoints/best-model-epoch=epoch=655.ckpt\", \n",
    "        map_location=\"cpu\")\n",
    "model = model.to(\"cpu\")"
   ]
  },
  {
   "cell_type": "markdown",
   "metadata": {},
   "source": [
    "#### Function: generate_ligands "
   ]
  },
  {
   "cell_type": "code",
   "execution_count": 29,
   "metadata": {},
   "outputs": [],
   "source": [
    "pdb_struct = PDBParser(QUIET=True).get_structure('', pdb_file)[0]"
   ]
  },
  {
   "cell_type": "code",
   "execution_count": 30,
   "metadata": {},
   "outputs": [
    {
     "name": "stdout",
     "output_type": "stream",
     "text": [
      "[<Residue HIS het=  resseq=24 icode= >, <Residue VAL het=  resseq=27 icode= >, <Residue ARG het=  resseq=223 icode= >, <Residue GLY het=  resseq=225 icode= >, <Residue LEU het=  resseq=226 icode= >, <Residue LEU het=  resseq=228 icode= >, <Residue PHE het=  resseq=229 icode= >, <Residue ASP het=  resseq=256 icode= >, <Residue TYR het=  resseq=257 icode= >, <Residue CYS het=  resseq=258 icode= >, <Residue ILE het=  resseq=261 icode= >, <Residue MET het=  resseq=263 icode= >, <Residue GLY het=  resseq=264 icode= >, <Residue THR het=  resseq=265 icode= >, <Residue ALA het=  resseq=266 icode= >, <Residue LYS het=  resseq=271 icode= >, <Residue LEU het=  resseq=274 icode= >, <Residue ALA het=  resseq=275 icode= >, <Residue TRP het=  resseq=278 icode= >, <Residue HIS het=  resseq=199 icode= >, <Residue ASP het=  resseq=202 icode= >, <Residue HIS het=  resseq=22 icode= >, <Residue HIS het=  resseq=170 icode= >, <Residue ASP het=  resseq=222 icode= >, <Residue HIS het=  resseq=255 icode= >, <Residue LEU het=  resseq=72 icode= >, <Residue TYR het=  resseq=97 icode= >, <Residue PRO het=  resseq=67 icode= >, <Residue TYR het=  resseq=99 icode= >, <Residue ALA het=  resseq=139 icode= >, <Residue ASP het=  resseq=141 icode= >, <Residue SER het=  resseq=171 icode= >, <Residue ASP het=  resseq=227 icode= >, <Residue LYS het=  resseq=267 icode= >, <Residue TYR het=  resseq=270 icode= >, <Residue PRO het=  resseq=268 icode= >, <Residue PRO het=  resseq=272 icode= >, <Residue LYS het=  resseq=273 icode= >, <Residue PRO het=  resseq=276 icode= >, <Residue GLU het=  resseq=269 icode= >, <Residue ARG het=  resseq=277 icode= >, <Residue SER het=  resseq=279 icode= >, <Residue PHE het=  resseq=104 icode= >]\n"
     ]
    }
   ],
   "source": [
    "pocket_ids = resi_list\n",
    "residues = [pdb_struct[x.split(':')[0]][(' ', int(x.split(':')[1]), ' ')] for x in pocket_ids]\n",
    "print(residues)"
   ]
  },
  {
   "cell_type": "code",
   "execution_count": 31,
   "metadata": {},
   "outputs": [
    {
     "name": "stdout",
     "output_type": "stream",
     "text": [
      "x torch.Size([172, 3])\n",
      "one_hot torch.Size([172, 20])\n",
      "size torch.Size([4])\n",
      "mask torch.Size([172])\n"
     ]
    },
    {
     "name": "stderr",
     "output_type": "stream",
     "text": [
      "/home/domainHomes/ssakharov/miniconda3/envs/thesis-venv/lib/python3.11/site-packages/Bio/PDB/Polypeptide.py:144: BiopythonDeprecationWarning: 'three_to_one' will be deprecated in a future release of Biopython in favor of 'Bio.PDB.Polypeptide.protein_letters_3to1'.\n",
      "  warnings.warn(\n"
     ]
    }
   ],
   "source": [
    "pocket = model.prepare_pocket(residues, batch_size)\n",
    "for pocket_key, pocket_value in pocket.items():\n",
    "    print(pocket_key, pocket_value.shape)"
   ]
  },
  {
   "cell_type": "code",
   "execution_count": 32,
   "metadata": {},
   "outputs": [
    {
     "data": {
      "text/plain": [
       "(tensor([[ 65.4615,  -5.8382, -65.9667],\n",
       "         [ 65.4615,  -5.8382, -65.9667],\n",
       "         [ 65.4615,  -5.8382, -65.9667],\n",
       "         [ 65.4615,  -5.8382, -65.9667]]),\n",
       " torch.Size([4, 3]))"
      ]
     },
     "execution_count": 32,
     "metadata": {},
     "output_type": "execute_result"
    }
   ],
   "source": [
    "pocket_com_before = scatter_mean(pocket['x'], pocket['mask'], dim=0)\n",
    "pocket_com_before, pocket_com_before.shape"
   ]
  },
  {
   "cell_type": "code",
   "execution_count": 33,
   "metadata": {},
   "outputs": [
    {
     "name": "stdout",
     "output_type": "stream",
     "text": [
      "num_nodes_lig: tensor([25, 20, 15, 19])\n",
      "num_nodes_lig: tensor([25, 20, 15, 19])\n"
     ]
    }
   ],
   "source": [
    "torch.manual_seed(42)\n",
    "num_nodes_lig = model.ddpm.size_distribution.sample_conditional(n1=None, n2=pocket['size'])\n",
    "print(f\"num_nodes_lig: {num_nodes_lig}\")\n",
    "n_nodes_bias = 0\n",
    "num_nodes_lig = num_nodes_lig + n_nodes_bias\n",
    "print(f\"num_nodes_lig: {num_nodes_lig}\")"
   ]
  },
  {
   "cell_type": "code",
   "execution_count": 34,
   "metadata": {},
   "outputs": [
    {
     "data": {
      "text/plain": [
       "(tensor([0, 0, 0, 0, 0, 0, 0, 0, 0, 0, 0, 0, 0, 0, 0, 0, 0, 0, 0, 0, 0, 0, 0, 0,\n",
       "         0, 1, 1, 1, 1, 1, 1, 1, 1, 1, 1, 1, 1, 1, 1, 1, 1, 1, 1, 1, 1, 2, 2, 2,\n",
       "         2, 2, 2, 2, 2, 2, 2, 2, 2, 2, 2, 2, 3, 3, 3, 3, 3, 3, 3, 3, 3, 3, 3, 3,\n",
       "         3, 3, 3, 3, 3, 3, 3]),\n",
       " torch.Size([79]))"
      ]
     },
     "execution_count": 34,
     "metadata": {},
     "output_type": "execute_result"
    }
   ],
   "source": [
    "lig_mask = utils.num_nodes_to_batch_mask(len(num_nodes_lig), num_nodes_lig, \"cpu\")\n",
    "lig_mask, lig_mask.shape"
   ]
  },
  {
   "cell_type": "code",
   "execution_count": 35,
   "metadata": {},
   "outputs": [
    {
     "name": "stdout",
     "output_type": "stream",
     "text": [
      "x torch.Size([79, 3])\n",
      "one_hot torch.Size([79, 10])\n",
      "size torch.Size([4])\n",
      "mask torch.Size([79])\n"
     ]
    }
   ],
   "source": [
    "ligand = {\n",
    "    'x': torch.zeros((len(lig_mask), model.x_dims),\n",
    "                        device=\"cpu\", dtype=FLOAT_TYPE),\n",
    "    'one_hot': torch.zeros((len(lig_mask), model.atom_nf),\n",
    "                            device=\"cpu\", dtype=FLOAT_TYPE),\n",
    "    'size': num_nodes_lig,\n",
    "    'mask': lig_mask\n",
    "    }\n",
    "for key, value in ligand.items():\n",
    "    print(key, value.shape)"
   ]
  },
  {
   "cell_type": "code",
   "execution_count": 36,
   "metadata": {},
   "outputs": [],
   "source": [
    "lig_fixed = torch.zeros(len(lig_mask), device=\"cpu\")\n",
    "pocket_fixed = torch.ones(len(pocket['mask']),device=\"cpu\")\n",
    "if len(lig_fixed.size()) == 1:\n",
    "    lig_fixed = lig_fixed.unsqueeze(1)\n",
    "if len(pocket_fixed.size()) == 1:\n",
    "    pocket_fixed = pocket_fixed.unsqueeze(1)"
   ]
  },
  {
   "cell_type": "markdown",
   "metadata": {},
   "source": [
    "### Inpaint"
   ]
  },
  {
   "cell_type": "code",
   "execution_count": 37,
   "metadata": {},
   "outputs": [
    {
     "name": "stdout",
     "output_type": "stream",
     "text": [
      "timesteps: 500\n"
     ]
    }
   ],
   "source": [
    "timesteps = model.ddpm.T\n",
    "print(f\"timesteps: {timesteps}\")"
   ]
  },
  {
   "cell_type": "code",
   "execution_count": 38,
   "metadata": {},
   "outputs": [
    {
     "name": "stdout",
     "output_type": "stream",
     "text": [
      "x torch.Size([79, 3])\n",
      "one_hot torch.Size([79, 10])\n",
      "size torch.Size([4])\n",
      "mask torch.Size([79])\n",
      "x torch.Size([172, 3])\n",
      "one_hot torch.Size([172, 20])\n",
      "size torch.Size([4])\n",
      "mask torch.Size([172])\n"
     ]
    }
   ],
   "source": [
    "ligand, pocket = model.ddpm.normalize(ligand, pocket)\n",
    "for key, value in ligand.items():\n",
    "    print(key, value.shape)\n",
    "for key, value in pocket.items():\n",
    "    print(key, value.shape)"
   ]
  },
  {
   "cell_type": "code",
   "execution_count": 39,
   "metadata": {},
   "outputs": [
    {
     "data": {
      "text/plain": [
       "(tensor([[ 65.4615,  -5.8382, -65.9667],\n",
       "         [ 65.4615,  -5.8382, -65.9667],\n",
       "         [ 65.4615,  -5.8382, -65.9667],\n",
       "         [ 65.4615,  -5.8382, -65.9667]]),\n",
       " torch.Size([4, 3]))"
      ]
     },
     "execution_count": 39,
     "metadata": {},
     "output_type": "execute_result"
    }
   ],
   "source": [
    "mean_known = scatter_mean(\n",
    "            torch.cat((ligand['x'][lig_fixed.bool().view(-1)],\n",
    "                       pocket['x'][pocket_fixed.bool().view(-1)])),\n",
    "            torch.cat((ligand['mask'][lig_fixed.bool().view(-1)],\n",
    "                       pocket['mask'][pocket_fixed.bool().view(-1)])),\n",
    "            dim=0\n",
    "        )\n",
    "mean_known, mean_known.shape"
   ]
  },
  {
   "cell_type": "code",
   "execution_count": 40,
   "metadata": {},
   "outputs": [
    {
     "name": "stdout",
     "output_type": "stream",
     "text": [
      "torch.Size([79, 13]) torch.Size([172, 23])\n"
     ]
    }
   ],
   "source": [
    "xh0_lig = torch.cat([ligand['x'], ligand['one_hot']], dim=1)\n",
    "xh0_pocket = torch.cat([pocket['x'], pocket['one_hot']], dim=1)\n",
    "\n",
    "xh0_lig[:, :model.ddpm.n_dims] = \\\n",
    "    xh0_lig[:, :model.ddpm.n_dims] - mean_known[ligand['mask']]\n",
    "xh0_pocket[:, :model.ddpm.n_dims] = \\\n",
    "    xh0_pocket[:, :model.ddpm.n_dims] - mean_known[pocket['mask']]\n",
    "print(xh0_lig.shape, xh0_pocket.shape)"
   ]
  },
  {
   "cell_type": "code",
   "execution_count": 41,
   "metadata": {},
   "outputs": [
    {
     "data": {
      "text/plain": [
       "(torch.Size([79, 13]), torch.Size([172, 23]))"
      ]
     },
     "execution_count": 41,
     "metadata": {},
     "output_type": "execute_result"
    }
   ],
   "source": [
    "z_lig, z_pocket = model.ddpm.sample_combined_position_feature_noise(ligand['mask'], pocket['mask'])\n",
    "z_lig.shape, z_pocket.shape"
   ]
  },
  {
   "cell_type": "code",
   "execution_count": 42,
   "metadata": {},
   "outputs": [
    {
     "name": "stdout",
     "output_type": "stream",
     "text": [
      "[2, 1, 1, 1, 1, 1, 1, 1, 1, 2, 1, 1, 1, 1, 1, 1, 1, 1, 2, 1]\n"
     ]
    },
    {
     "data": {
      "text/plain": [
       "(442, (array([1, 2]), array([393,  49])))"
      ]
     },
     "execution_count": 42,
     "metadata": {},
     "output_type": "execute_result"
    }
   ],
   "source": [
    "resamplings = 10\n",
    "jump_length = 1\n",
    "# Each integer in the schedule list describes how many denoising steps need to be applied before jumping back \n",
    "schedule = model.ddpm.get_repaint_schedule(resamplings, jump_length, timesteps=50)\n",
    "print(schedule[:20])\n",
    "len(schedule), np.unique(schedule, return_counts=True)"
   ]
  },
  {
   "cell_type": "code",
   "execution_count": 43,
   "metadata": {},
   "outputs": [
    {
     "name": "stdout",
     "output_type": "stream",
     "text": [
      "n_samples: 4\n",
      "s: 499\n",
      "s_array.shape torch.Size([4, 1]), s_array: tensor([[499],\n",
      "        [499],\n",
      "        [499],\n",
      "        [499]])\n",
      "gamma_s.shape: torch.Size([4, 1])\n",
      "z_lig_known.shape: torch.Size([79, 13])\n",
      "z_pocket_known.shape: torch.Size([172, 23])\n"
     ]
    },
    {
     "name": "stdout",
     "output_type": "stream",
     "text": [
      "z_lig_unknown.shape: torch.Size([79, 13])\n",
      "z_pocket_unknown.shape: torch.Size([172, 23])\n",
      "z_lig.shape: torch.Size([79, 13])\n",
      "z_pocket.shape: torch.Size([172, 23])\n"
     ]
    }
   ],
   "source": [
    "n_samples = len(ligand['size'])\n",
    "s = timesteps - 1\n",
    "print(f\"n_samples: {n_samples}\")\n",
    "print(f\"s: {s}\")\n",
    "for i, n_denoise_steps in enumerate(schedule):\n",
    "    for j in range(n_denoise_steps):\n",
    "        s_array = torch.full((n_samples, 1), fill_value=s,device=\"cpu\")\n",
    "        print(f\"s_array.shape {s_array.shape}, s_array: {s_array}\")\n",
    "        t_array = s_array + 1\n",
    "        s_array = s_array / timesteps \n",
    "        t_array = t_array / timesteps\n",
    "        gamma_s = model.ddpm.inflate_batch_array(model.ddpm.gamma(s_array), ligand['x'])\n",
    "        print(f\"gamma_s.shape: {gamma_s.shape}\")\n",
    "        #### apply noise to the ligand and pocket depending on the timestep \n",
    "        z_lig_known, z_pocket_known, _, _ = model.ddpm.noised_representation(xh0_lig, xh0_pocket, ligand['mask'], pocket['mask'], gamma_s)\n",
    "        print(f\"z_lig_known.shape: {z_lig_known.shape}\")\n",
    "        print(f\"z_pocket_known.shape: {z_pocket_known.shape}\")\n",
    "        #### Samples from zs ~ p(zs | zt).\n",
    "        z_lig_unknown, z_pocket_unknown = model.ddpm.sample_p_zs_given_zt( s_array, t_array, z_lig, z_pocket, ligand['mask'], pocket['mask'])\n",
    "        print(f\"z_lig_unknown.shape: {z_lig_unknown.shape}\")\n",
    "        print(f\"z_pocket_unknown.shape: {z_pocket_unknown.shape}\")\n",
    "        z_lig = z_lig_known * lig_fixed + \\\n",
    "                z_lig_unknown * (1 - lig_fixed)\n",
    "        z_pocket = z_pocket_known * pocket_fixed + \\\n",
    "                    z_pocket_unknown * (1 - pocket_fixed)\n",
    "        print(f\"z_lig.shape: {z_lig.shape}\")\n",
    "        print(f\"z_pocket.shape: {z_pocket.shape}\")\n",
    "        break\n",
    "    break"
   ]
  },
  {
   "cell_type": "code",
   "execution_count": 47,
   "metadata": {},
   "outputs": [
    {
     "name": "stdout",
     "output_type": "stream",
     "text": [
      "x_lig.shape: torch.Size([79, 3])\n",
      "h_lig.shape: torch.Size([79, 10])\n",
      "x_pocket.shape: torch.Size([172, 3])\n",
      "h_pocket.shape: torch.Size([172, 20])\n"
     ]
    }
   ],
   "source": [
    "x_lig, h_lig, x_pocket, h_pocket = model.ddpm.sample_p_xh_given_z0(z_lig, z_pocket, ligand['mask'], pocket['mask'], n_samples)\n",
    "print(f\"x_lig.shape: {x_lig.shape}\")\n",
    "print(f\"h_lig.shape: {h_lig.shape}\")\n",
    "print(f\"x_pocket.shape: {x_pocket.shape}\")\n",
    "print(f\"h_pocket.shape: {h_pocket.shape}\")"
   ]
  },
  {
   "cell_type": "code",
   "execution_count": 48,
   "metadata": {},
   "outputs": [
    {
     "name": "stdout",
     "output_type": "stream",
     "text": [
      "out_lig.shape: torch.Size([79, 13])\n",
      "out_pocket.shape: torch.Size([172, 23])\n"
     ]
    }
   ],
   "source": [
    "out_lig = torch.zeros((return_frames,) + z_lig.size(),\n",
    "                        device=z_lig.device)\n",
    "out_pocket = torch.zeros((return_frames,) + z_pocket.size(),\n",
    "                            device=z_pocket.device)\n",
    "\n",
    "out_lig[0] = torch.cat([x_lig, h_lig], dim=1)\n",
    "out_pocket[0] = torch.cat([x_pocket, h_pocket], dim=1)\n",
    "\n",
    "out_pocket = out_pocket.squeeze()\n",
    "out_lig = out_lig.squeeze()\n",
    "print(f\"out_lig.shape: {out_lig.shape}\")\n",
    "print(f\"out_pocket.shape: {out_pocket.shape}\")"
   ]
  },
  {
   "cell_type": "code",
   "execution_count": 44,
   "metadata": {},
   "outputs": [],
   "source": [
    "# resamplings = 10\n",
    "# jump_length = 1\n",
    "# timesteps = 50\n",
    "# # Each integer in the schedule list describes how many denoising steps need to be applied before jumping back \n",
    "# schedule = model.ddpm.get_repaint_schedule(resamplings, jump_length, timesteps)\n",
    "# print(schedule[:20])\n",
    "# len(schedule), np.unique(schedule, return_counts=True)"
   ]
  },
  {
   "cell_type": "code",
   "execution_count": 45,
   "metadata": {},
   "outputs": [],
   "source": [
    "# s = timesteps - 1\n",
    "# return_frames = 1\n",
    "# jump_length = 1\n",
    "# for i, n_denoise_steps in enumerate(schedule):\n",
    "#     print(f\"---- i: {i}, n_denoise_steps: {n_denoise_steps} ----\")\n",
    "#     for j in range(n_denoise_steps):\n",
    "#         print(f\" j = {j}\")\n",
    "#         # Denoise one time step: t -> s\n",
    "#         s_array = torch.full((n_samples, 1), fill_value=s,\n",
    "#                                 device=z_lig.device)\n",
    "#         t_array = s_array + 1\n",
    "#         print(f\"Sample p_zs_given_zt for s {s_array[0]} and t_array {t_array[0]}\")\n",
    "#         s_array = s_array / timesteps\n",
    "#         t_array = t_array / timesteps\n",
    "\n",
    "#         # sample known nodes from the input\n",
    "#         # save frame at the end of a resample cycle\n",
    "#         if n_denoise_steps > jump_length or i == len(schedule) - 1:\n",
    "#             if (s * return_frames) % timesteps == 0:\n",
    "#                 print(f\"In the first if statement, s: {s}\")\n",
    "\n",
    "#         # Noise combined representation\n",
    "#         if j == n_denoise_steps - 1 and i < len(schedule) - 1:\n",
    "#             # Go back jump_length steps\n",
    "#             t = s + jump_length\n",
    "#             t_array = torch.full((n_samples, 1), fill_value=t,\n",
    "#                                     device=z_lig.device)\n",
    "#             print(f\"Sample p_zt_given_zs for and t_array {t_array[0]}\")\n",
    "#             s = t\n",
    "#         s -= 1"
   ]
  },
  {
   "cell_type": "code",
   "execution_count": 46,
   "metadata": {},
   "outputs": [
    {
     "ename": "NameError",
     "evalue": "name 'self' is not defined",
     "output_type": "error",
     "traceback": [
      "\u001b[0;31m---------------------------------------------------------------------------\u001b[0m",
      "\u001b[0;31mNameError\u001b[0m                                 Traceback (most recent call last)",
      "Cell \u001b[0;32mIn[46], line 1\u001b[0m\n\u001b[0;32m----> 1\u001b[0m x_lig, h_lig, x_pocket, h_pocket \u001b[38;5;241m=\u001b[39m \u001b[38;5;28mself\u001b[39m\u001b[38;5;241m.\u001b[39msample_p_xh_given_z0(z_lig, z_pocket, ligand[\u001b[38;5;124m'\u001b[39m\u001b[38;5;124mmask\u001b[39m\u001b[38;5;124m'\u001b[39m], pocket[\u001b[38;5;124m'\u001b[39m\u001b[38;5;124mmask\u001b[39m\u001b[38;5;124m'\u001b[39m], n_samples)\n",
      "\u001b[0;31mNameError\u001b[0m: name 'self' is not defined"
     ]
    }
   ],
   "source": [
    "x_lig, h_lig, x_pocket, h_pocket = self.sample_p_xh_given_z0(z_lig, z_pocket, ligand['mask'], pocket['mask'], n_samples)"
   ]
  }
 ],
 "metadata": {
  "kernelspec": {
   "display_name": "thesis-venv",
   "language": "python",
   "name": "python3"
  },
  "language_info": {
   "codemirror_mode": {
    "name": "ipython",
    "version": 3
   },
   "file_extension": ".py",
   "mimetype": "text/x-python",
   "name": "python",
   "nbconvert_exporter": "python",
   "pygments_lexer": "ipython3",
   "version": "3.11.6"
  }
 },
 "nbformat": 4,
 "nbformat_minor": 2
}
